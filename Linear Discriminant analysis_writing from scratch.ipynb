{
 "cells": [
  {
   "cell_type": "code",
   "execution_count": 1,
   "metadata": {},
   "outputs": [],
   "source": [
    "# Linear discriminant analysis\n",
    "# self-developed code from scratch"
   ]
  },
  {
   "cell_type": "code",
   "execution_count": 2,
   "metadata": {},
   "outputs": [],
   "source": [
    "# import library\n",
    "import pandas as pd\n",
    "import numpy as np\n",
    "from matplotlib import pyplot as plt\n",
    "import seaborn as sns"
   ]
  },
  {
   "cell_type": "code",
   "execution_count": 8,
   "metadata": {},
   "outputs": [
    {
     "name": "stdout",
     "output_type": "stream",
     "text": [
      "<class 'numpy.ndarray'>\n"
     ]
    },
    {
     "data": {
      "text/plain": [
       "Text(0.5,1,'Distribution of data')"
      ]
     },
     "execution_count": 8,
     "metadata": {},
     "output_type": "execute_result"
    },
    {
     "data": {
      "image/png": "[encoded data removed]",
      "text/plain": [
       "<matplotlib.figure.Figure at 0x27bf4f3ff28>"
      ]
     },
     "metadata": {},
     "output_type": "display_data"
    }
   ],
   "source": [
    "# generate two classes of data\n",
    "X1 = np.random.normal(5,1,20)\n",
    "X2 = np.random.normal(20,1,20)\n",
    "print(type(X1))\n",
    "y1 = np.zeros(20)\n",
    "y2 = np.ones(20)\n",
    "plt.scatter(X1, y1, color = 'blue')\n",
    "plt.scatter(X2, y2, color = 'red')\n",
    "plt.title('Distribution of data')"
   ]
  },
  {
   "cell_type": "code",
   "execution_count": 19,
   "metadata": {},
   "outputs": [
    {
     "name": "stdout",
     "output_type": "stream",
     "text": [
      "4.832947381002347\n",
      "19.955628790729467\n"
     ]
    }
   ],
   "source": [
    "# Calculate the means for each class \n",
    "mean_X1 = np.mean(X1)\n",
    "mean_X2 = np.mean(X2)\n",
    "print(mean_X1)\n",
    "print(mean_X2)"
   ]
  },
  {
   "cell_type": "code",
   "execution_count": 7,
   "metadata": {},
   "outputs": [],
   "source": [
    "# calculate the class probabilities\n",
    "p_y1 = (len(y1)/(len(y1)+len(y2)))\n",
    "p_y2 = (len(y2)/(len(y1)+len(y2)))"
   ]
  },
  {
   "cell_type": "code",
   "execution_count": 14,
   "metadata": {},
   "outputs": [
    {
     "name": "stdout",
     "output_type": "stream",
     "text": [
      "24.356265961458508\n",
      "15.55276585371031\n"
     ]
    }
   ],
   "source": [
    "# Calculate the variance\n",
    "Var_X1 = np.sum(np.square(X1-mean_X1))\n",
    "Var_X2 = np.sum(np.square(X2-mean_X2))\n",
    "print(Var_X1)\n",
    "print(Var_X2)\n",
    "Var = 1/(40-2)*(Var_X1 + Var_X2)"
   ]
  },
  {
   "cell_type": "code",
   "execution_count": 30,
   "metadata": {},
   "outputs": [
    {
     "name": "stdout",
     "output_type": "stream",
     "text": [
      "[ True  True  True  True  True  True  True  True  True  True  True  True\n",
      "  True  True  True  True  True  True  True  True]\n",
      "[False False False False False False False False False False False False\n",
      " False False False False False False False False]\n"
     ]
    }
   ],
   "source": [
    "# Discriminant_x = x * mean/VAR - mean^2/(2*VAR) +ln(p)\n",
    "Discriminant_y1_X1 = X1*mean_X1/Var - np.square(mean_X1)/2/Var + np.log(p_y1)\n",
    "Discriminant_y2_X1 = X1*mean_X2/Var - np.square(mean_X2)/2/Var + np.log(p_y2)\n",
    "prediction = Discriminant_y1_X1-Discriminant_y2_X1>0\n",
    "print(prediction)\n",
    "Discriminant_y1_X2 = X2*mean_X1/Var - np.square(mean_X1)/2/Var + np.log(p_y1)\n",
    "Discriminant_y2_X2 = X2*mean_X2/Var - np.square(mean_X2)/2/Var + np.log(p_y2)\n",
    "prediction1 = Discriminant_y1_X2-Discriminant_y2_X2>0\n",
    "print(prediction1)\n",
    "    "
   ]
  },
  {
   "cell_type": "code",
   "execution_count": 32,
   "metadata": {},
   "outputs": [
    {
     "name": "stdout",
     "output_type": "stream",
     "text": [
      "True\n"
     ]
    }
   ],
   "source": [
    "#prediction\n",
    "x = 1\n",
    "Discriminant_y1_x = x*mean_X1/Var - np.square(mean_X1)/2/Var + np.log(p_y1)\n",
    "Discriminant_y2_x = x*mean_X2/Var - np.square(mean_X2)/2/Var + np.log(p_y2)\n",
    "prediction2 = Discriminant_y1_x-Discriminant_y2_x>0\n",
    "print(prediction2) # so x=1 is predicted as y=0"
   ]
  },
  {
   "cell_type": "code",
   "execution_count": null,
   "metadata": {},
   "outputs": [],
   "source": []
  }
 ],
 "metadata": {
  "kernelspec": {
   "display_name": "Python 3",
   "language": "python",
   "name": "python3"
  },
  "language_info": {
   "codemirror_mode": {
    "name": "ipython",
    "version": 3
   },
   "file_extension": ".py",
   "mimetype": "text/x-python",
   "name": "python",
   "nbconvert_exporter": "python",
   "pygments_lexer": "ipython3",
   "version": "3.6.4"
  }
 },
 "nbformat": 4,
 "nbformat_minor": 2
}
