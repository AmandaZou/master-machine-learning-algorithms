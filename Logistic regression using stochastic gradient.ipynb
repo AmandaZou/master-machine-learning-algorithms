{
 "cells": [
  {
   "cell_type": "code",
   "execution_count": 1,
   "metadata": {},
   "outputs": [],
   "source": [
    "# Chapters 13 and 14 Logistic regression\n",
    "# Log odds or logit: ln(p/(1-p))\n",
    "# Representation of logistic regression model: y = exp(B0+B1*X)/(1+exp(B0+B1*X))\n",
    "# Logistic regression is actually predicting the probabilities, and then transformed into a binary value (0 0r 1) to make a crisp prediction\n",
    "# Coefficients of the logistic regreesion is estimated by a variety of machine learning algorithms\n",
    "# Preparing data: \n",
    "#（1） Binary output variable\n",
    "# (2) Remove noise:Removing outliers\n",
    "# (3) Gaussian distribution: For example, you can use log, root,Box-Cox and other univariate transforms to better expose this linear relationship\n",
    "# (4) Remove correlated inputs:Consider calculating the pairwise correlations between all inputs and removing highly correlated inputs.\n",
    "# (5） Fail to converge: If there are many highly correlated inputs or the data is very sparse"
   ]
  },
  {
   "cell_type": "code",
   "execution_count": 2,
   "metadata": {},
   "outputs": [],
   "source": [
    "# import the libraries\n",
    "import numpy as np\n",
    "import pandas as pd\n",
    "import matplotlib.pyplot as plt\n",
    "%matplotlib inline"
   ]
  },
  {
   "cell_type": "code",
   "execution_count": 3,
   "metadata": {},
   "outputs": [],
   "source": [
    "# import data\n",
    "X1 = np.array([2.7810836,1.465489372,3.396561688,1.38807019,3.06407232,7.627531214,5.332441248,6.922596716,8.675418651,7.673756466])\n",
    "X2 = np.array([2.550537003,2.362125076,4.400293529,1.850220317,3.005305973,2.759262235,2.088626775,1.77106367,-0.242068655,3.508563011])\n",
    "y = np.array([0,0,0,0,0,1,1,1,1,1])"
   ]
  },
  {
   "cell_type": "code",
   "execution_count": 8,
   "metadata": {},
   "outputs": [
    {
     "data": {
      "text/plain": [
       "Text(0,0.5,'X2')"
      ]
     },
     "execution_count": 8,
     "metadata": {},
     "output_type": "execute_result"
    },
    {
     "data": {
      "image/png": "[encoded data removed]",
      "text/plain": [
       "<matplotlib.figure.Figure at 0x1f4dcf30278>"
      ]
     },
     "metadata": {},
     "output_type": "display_data"
    }
   ],
   "source": [
    "# visualization of data\n",
    "plt.scatter(X1[0:5],X2[0:5], color='blue')\n",
    "plt.scatter(X1[5:10],X2[5:10],color = \"red\")\n",
    "plt.title('Scatter of the data')\n",
    "plt.xlabel('X1')\n",
    "plt.ylabel('X2')"
   ]
  },
  {
   "cell_type": "code",
   "execution_count": 22,
   "metadata": {},
   "outputs": [
    {
     "name": "stdout",
     "output_type": "stream",
     "text": [
      "-0.18421481086159977\n",
      "0.42247115547871716\n",
      "0.5151608988402318\n"
     ]
    }
   ],
   "source": [
    "# Logistic regression by stochastic gradient descent\n",
    "n = 10\n",
    "B0 = np.zeros(n)\n",
    "B1 = np.zeros(n)\n",
    "B2 = np.zeros(n)\n",
    "alpha = 0.3\n",
    "for i in range(0,n-1):\n",
    "    y_i = 1/(1+np.exp(-(B0[i]+B1[i]*X1[i]+B2[i]*X2[i])))  #prediction\n",
    "    B0[i+1] = B0[i] + alpha * (y[i]-y_i)*y_i*(1-y_i)*1\n",
    "    B1[i+1] = B1[i] - alpha * (y[i]-y_i)*y_i*(1-y_i)*X1[i]\n",
    "    B2[i+1] = B2[i] - alpha * (y[i]-y_i)*y_i*(1-y_i)*X2[i]\n",
    "print(B0[n-1])\n",
    "print(B1[n-1])\n",
    "print(B2[n-1])"
   ]
  },
  {
   "cell_type": "code",
   "execution_count": 21,
   "metadata": {},
   "outputs": [
    {
     "name": "stdout",
     "output_type": "stream",
     "text": [
      "[1. 1. 1. 1. 1. 1. 1. 1. 1. 1.]\n"
     ]
    }
   ],
   "source": [
    "# visualizing the results, seems one epoch is not enough for learning\n",
    "y1 = B0[n-1] + B1[n-1]*X1 +B2[n-1]*X2\n",
    "for i in range(len(y1)):\n",
    "    if y1[i]<0.5:\n",
    "        y1[i]=0\n",
    "    if y1[i]>=0.5:\n",
    "        y1[i]=1\n",
    "print(y1)\n",
    "#plt.scatter(X, y, color=\"red\")\n",
    "#plt.plot(X,y1, color='blue')\n",
    "#plt.title('Salary vs Experience')\n",
    "#plt.xlabel('year of experience')\n",
    "#plt.ylabel('salary')\n",
    "#plt.show"
   ]
  },
  {
   "cell_type": "code",
   "execution_count": 26,
   "metadata": {},
   "outputs": [
    {
     "data": {
      "text/plain": [
       "1.0"
      ]
     },
     "execution_count": 26,
     "metadata": {},
     "output_type": "execute_result"
    }
   ],
   "source": [
    "# Using sklearn model to implement logistic regression\n",
    "from sklearn.linear_model import LogisticRegression\n",
    "X = np.transpose(np.array([X1,X2]))\n",
    "clf = LogisticRegression(random_state=0).fit(X,y)\n",
    "clf.score(X,y)"
   ]
  },
  {
   "cell_type": "code",
   "execution_count": null,
   "metadata": {},
   "outputs": [],
   "source": []
  }
 ],
 "metadata": {
  "kernelspec": {
   "display_name": "Python 3",
   "language": "python",
   "name": "python3"
  },
  "language_info": {
   "codemirror_mode": {
    "name": "ipython",
    "version": 3
   },
   "file_extension": ".py",
   "mimetype": "text/x-python",
   "name": "python",
   "nbconvert_exporter": "python",
   "pygments_lexer": "ipython3",
   "version": "3.6.4"
  }
 },
 "nbformat": 4,
 "nbformat_minor": 2
}
